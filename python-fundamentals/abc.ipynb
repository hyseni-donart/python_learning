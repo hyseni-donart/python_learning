{
 "cells": [
  {
   "cell_type": "code",
   "execution_count": 2,
   "id": "5f6ae026",
   "metadata": {},
   "outputs": [
    {
     "name": "stdout",
     "output_type": "stream",
     "text": [
      "Donart\tHyseni\n"
     ]
    }
   ],
   "source": [
    "firstName = \"Donart\"\n",
    "lastName = \"Hyseni\"\n",
    "\n",
    "print(\"{0}\\t{1}\".format(firstName, lastName))"
   ]
  },
  {
   "cell_type": "code",
   "execution_count": 3,
   "id": "c8e948b9",
   "metadata": {},
   "outputs": [
    {
     "name": "stdout",
     "output_type": "stream",
     "text": [
      "I am Donart Hyseni\n"
     ]
    }
   ],
   "source": [
    "print(f\"I am {firstName} {lastName}\")"
   ]
  },
  {
   "cell_type": "code",
   "execution_count": null,
   "id": "0588dcd7",
   "metadata": {},
   "outputs": [],
   "source": []
  }
 ],
 "metadata": {
  "kernelspec": {
   "display_name": "Python 3",
   "language": "python",
   "name": "python3"
  },
  "language_info": {
   "codemirror_mode": {
    "name": "ipython",
    "version": 3
   },
   "file_extension": ".py",
   "mimetype": "text/x-python",
   "name": "python",
   "nbconvert_exporter": "python",
   "pygments_lexer": "ipython3",
   "version": "3.13.5"
  }
 },
 "nbformat": 4,
 "nbformat_minor": 5
}
