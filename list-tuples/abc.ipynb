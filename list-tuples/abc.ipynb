{
 "cells": [
  {
   "cell_type": "code",
   "execution_count": 7,
   "id": "b52ab5a1",
   "metadata": {},
   "outputs": [
    {
     "name": "stdout",
     "output_type": "stream",
     "text": [
      "['The', 'quick', 'brown', 'fox', 'jumps', 'over', 'the', 'lazy', 'dog']\n"
     ]
    }
   ],
   "source": [
    "pangram = \"\"\"The quick brown \n",
    "           fox jumps\\tover \n",
    "           the lazy dog\"\"\"\n",
    "\n",
    "words = pangram.split()\n",
    "print(words)\n",
    "\n"
   ]
  },
  {
   "cell_type": "code",
   "execution_count": 5,
   "id": "8e002e42",
   "metadata": {},
   "outputs": [
    {
     "name": "stdout",
     "output_type": "stream",
     "text": [
      "['9,223,372,036,854,775,807']\n"
     ]
    }
   ],
   "source": [
    "numbers = \"9,223,372,036,854,775,807\"\n",
    "# [\"\"]\n",
    "print(numbers.split())"
   ]
  },
  {
   "cell_type": "code",
   "execution_count": 8,
   "id": "8d59589c",
   "metadata": {},
   "outputs": [
    {
     "name": "stdout",
     "output_type": "stream",
     "text": [
      "['9', '223', '372', '036', '854', '775', '807']\n"
     ]
    }
   ],
   "source": [
    "numbers_list = numbers.split(sep=\",\")\n",
    "print(numbers_list)"
   ]
  },
  {
   "cell_type": "code",
   "execution_count": 9,
   "id": "e1ea5da6",
   "metadata": {},
   "outputs": [
    {
     "name": "stdout",
     "output_type": "stream",
     "text": [
      "['', '13', '5', '159', '7734', '58', '']\n"
     ]
    }
   ],
   "source": [
    "numbers = \"213252159277342582\"\n",
    "numbers_list = numbers.split(sep=\"2\")\n",
    "print(numbers_list)"
   ]
  }
 ],
 "metadata": {
  "kernelspec": {
   "display_name": "Python 3",
   "language": "python",
   "name": "python3"
  },
  "language_info": {
   "codemirror_mode": {
    "name": "ipython",
    "version": 3
   },
   "file_extension": ".py",
   "mimetype": "text/x-python",
   "name": "python",
   "nbconvert_exporter": "python",
   "pygments_lexer": "ipython3",
   "version": "3.13.5"
  }
 },
 "nbformat": 4,
 "nbformat_minor": 5
}
