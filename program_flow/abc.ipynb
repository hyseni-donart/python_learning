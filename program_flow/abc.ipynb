{
 "cells": [
  {
   "cell_type": "code",
   "execution_count": null,
   "id": "ee9b1314",
   "metadata": {},
   "outputs": [
    {
     "name": "stdout",
     "output_type": "stream",
     "text": [
      "['1:\\tLearn Python', '2:\\tLearn Java', '3:\\tGo swimming', '4:\\tHave dinner', '5:\\tGo to bed', '0:\\tExit']\n",
      "['1:\\tLearn Python', '2:\\tLearn Java', '3:\\tGo swimming', '4:\\tHave dinner', '5:\\tGo to bed', '0:\\tExit']\n",
      "['1:\\tLearn Python', '2:\\tLearn Java', '3:\\tGo swimming', '4:\\tHave dinner', '5:\\tGo to bed', '0:\\tExit']\n"
     ]
    }
   ],
   "source": [
    "options = [\"1:\\tLearn Python\", \n",
    "           \"2:\\tLearn Java\", \n",
    "           \"3:\\tGo swimming\", \n",
    "           \"4:\\tHave dinner\", \n",
    "           \"5:\\tGo to bed\",\n",
    "           \"0:\\tExit\"]\n",
    "\n",
    "choice = \"-\"\n",
    "\n",
    "while choice != \"0\":\n",
    "    if choice in \"12345\":\n",
    "        print(f\"You chose {choice}\")\n",
    "    else:\n",
    "        print(options)\n",
    "    choice = input()\n",
    "    \n"
   ]
  },
  {
   "cell_type": "code",
   "execution_count": null,
   "id": "a09d6fe4",
   "metadata": {},
   "outputs": [],
   "source": []
  },
  {
   "cell_type": "code",
   "execution_count": null,
   "id": "c39e038e",
   "metadata": {},
   "outputs": [],
   "source": []
  }
 ],
 "metadata": {
  "kernelspec": {
   "display_name": "Python 3",
   "language": "python",
   "name": "python3"
  },
  "language_info": {
   "codemirror_mode": {
    "name": "ipython",
    "version": 3
   },
   "file_extension": ".py",
   "mimetype": "text/x-python",
   "name": "python",
   "nbconvert_exporter": "python",
   "pygments_lexer": "ipython3",
   "version": "3.13.5"
  }
 },
 "nbformat": 4,
 "nbformat_minor": 5
}
