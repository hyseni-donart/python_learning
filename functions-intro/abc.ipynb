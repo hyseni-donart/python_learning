{
 "cells": [
  {
   "cell_type": "code",
   "execution_count": 16,
   "id": "292986c6",
   "metadata": {},
   "outputs": [
    {
     "name": "stdout",
     "output_type": "stream",
     "text": [
      "30\n"
     ]
    }
   ],
   "source": [
    "def sum_eo(n, t):\n",
    "    if t == \"e\":\n",
    "        start = 2\n",
    "    elif t == 'o':\n",
    "        start = 1\n",
    "    else:\n",
    "        return -1\n",
    "\n",
    "    return sum(range(start, n, 2))\n",
    "\n",
    "\n",
    "x = sum_eo(11, 'e')\n",
    "print(x)"
   ]
  },
  {
   "cell_type": "code",
   "execution_count": null,
   "id": "39a24b01",
   "metadata": {},
   "outputs": [],
   "source": []
  }
 ],
 "metadata": {
  "kernelspec": {
   "display_name": "Python 3",
   "language": "python",
   "name": "python3"
  },
  "language_info": {
   "codemirror_mode": {
    "name": "ipython",
    "version": 3
   },
   "file_extension": ".py",
   "mimetype": "text/x-python",
   "name": "python",
   "nbconvert_exporter": "python",
   "pygments_lexer": "ipython3",
   "version": "3.13.5"
  }
 },
 "nbformat": 4,
 "nbformat_minor": 5
}
